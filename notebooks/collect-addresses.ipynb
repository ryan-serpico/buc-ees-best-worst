{
 "cells": [
  {
   "attachments": {},
   "cell_type": "markdown",
   "metadata": {},
   "source": [
    "# Collect addresses\n",
    "\n",
    "In this notebook we're going to collect every Buc-ee's address from [their company directory](https://buc-ees.com/locations/)."
   ]
  },
  {
   "cell_type": "code",
   "execution_count": 1,
   "metadata": {},
   "outputs": [],
   "source": [
    "# We import requests and BeautifulSoup to scrape addresses from Buc-ee's website\n",
    "import requests\n",
    "from bs4 import BeautifulSoup\n",
    "\n",
    "# For data manipulation and analysis we import pandas\n",
    "import pandas as pd\n",
    "\n",
    "# To display data in a table we import itables\n",
    "from itables import show"
   ]
  },
  {
   "attachments": {},
   "cell_type": "markdown",
   "metadata": {},
   "source": [
    "We're going to scrape the Buc-ee's directory to get all the locations. Their site is unreliably slow, so we're just going to scrape the html file I saved locally."
   ]
  },
  {
   "cell_type": "code",
   "execution_count": 34,
   "metadata": {},
   "outputs": [
    {
     "data": {
      "text/html": [
       "<style>.itables table td {\n",
       "    text-overflow: ellipsis;\n",
       "    overflow: hidden;\n",
       "}\n",
       "\n",
       ".itables table th {\n",
       "    text-overflow: ellipsis;\n",
       "    overflow: hidden;\n",
       "}\n",
       "\n",
       ".itables thead input {\n",
       "    width: 100%;\n",
       "    padding: 3px;\n",
       "    box-sizing: border-box;\n",
       "}\n",
       "\n",
       ".itables tfoot input {\n",
       "    width: 100%;\n",
       "    padding: 3px;\n",
       "    box-sizing: border-box;\n",
       "}\n",
       "</style>\n",
       "<div class=\"itables\">\n",
       "<table id=\"ce46ef96-354f-44f4-865b-d95b33a4aecf\" class=\"display nowrap\"style=\"table-layout:auto;width:auto;margin:auto;caption-side:bottom\"><thead>\n",
       "    <tr style=\"text-align: right;\">\n",
       "      \n",
       "      <th>name</th>\n",
       "      <th>address</th>\n",
       "      <th>directions</th>\n",
       "    </tr>\n",
       "  </thead><tbody><tr><td>Loading... (need <a href=https://mwouts.github.io/itables/troubleshooting.html>help</a>?)</td></tr></tbody></table>\n",
       "<link rel=\"stylesheet\" type=\"text/css\" href=\"https://cdn.datatables.net/1.13.1/css/jquery.dataTables.min.css\">\n",
       "<script type=\"module\">\n",
       "    // Import jquery and DataTable\n",
       "    import 'https://code.jquery.com/jquery-3.6.0.min.js';\n",
       "    import dt from 'https://cdn.datatables.net/1.12.1/js/jquery.dataTables.mjs';\n",
       "    dt($);\n",
       "\n",
       "    // Define the table data\n",
       "    const data = [[\"#57 \\u2013 Athens, AL\", \"2328 Lindsay Lane South Athens, AL 35613\", \"https://www.google.com/maps/search/2328 Lindsay Lane South+Athens+AL+35613\"], [\"#43 \\u2013 Leeds, AL\", \"6900 Buc-ee\\u2019s Blvd. Leeds, Alabama 35094\", \"https://www.google.com/maps/search/6900 Buc-ee\\u2019s Blvd.+Leeds+Alabama+35094\"], [\"#42 \\u2013 Loxley, AL\", \"20403 County Rd. 68 Robertsdale, Alabama 36567\", \"https://www.google.com/maps/search/20403 County Rd. 68+Robertsdale+Alabama+36567\"], [\"#47 \\u2013 Daytona Beach, FL\", \"2330 Gateway North Drive Daytona Beach, FL 32117\", \"https://www.google.com/maps/search/2330 Gateway North Drive+Daytona Beach+FL+32117\"], [\"#46 \\u2013 Saint Augustine, FL\", \"200 World Commerce Pkwy Saint Augustine, Florida 32092\", \"https://www.google.com/maps/search/200 World Commerce Pkwy+Saint Augustine+Florida+32092\"], [\"#52 \\u2013 Calhoun, GA\", \"601 Union Grove Rd. SE Adairsville, GA 30103\", \"https://www.google.com/maps/search/601 Union Grove Rd. SE+Adairsville+GA+30103\"], [\"#51 \\u2013 Warner Robins, GA\", \"7001 Russell Parkway Fort Valley, Georgia 31030\", \"https://www.google.com/maps/search/7001 Russell Parkway+Fort Valley+Georgia+31030\"], [\"#55 \\u2013 Richmond, KY\", \"1013 Buc-ee's Boulevard Richmond, Kentucky 40475\", \"https://www.google.com/maps/search/1013 Buc-ee's Boulevard+Richmond+Kentucky+40475\"], [\"#53 \\u2013 Florence, SC\", \"3390 North Williston Road Florence, South Carolina 29506\", \"https://www.google.com/maps/search/3390 North Williston Road+Florence+South Carolina+29506\"], [\"#50 Crossville, TN\", \"2045 Genesis Road Crossville, Tennessee 38555\", \"https://www.google.com/maps/search/2045 Genesis Road+Crossville+Tennessee+38555\"], [\"#14 \\u2013 Alvin, TX\", \"780 Hwy-35 N Byp Alvin, Texas 77511\", \"https://www.google.com/maps/search/780 Hwy-35 N Byp+Alvin+Texas+77511\"], [\"#13 \\u2013 Angleton, TX\", \"2299 E Mulberry St Angleton, Texas 77515\", \"https://www.google.com/maps/search/2299 E Mulberry St+Angleton+Texas+77515\"], [\"#21 \\u2013 Angleton, TX\", \"931 Loop 274 Angleton, Texas 77515\", \"https://www.google.com/maps/search/931 Loop 274+Angleton+Texas+77515\"], [\"#25 \\u2013 Angleton, TX\", \"2304 W Mulberry St Angleton, Texas 77515\", \"https://www.google.com/maps/search/2304 W Mulberry St+Angleton+Texas+77515\"], [\"#28 \\u2013 Bastrop, TX\", \"1700 Highway 71 East Bastrop, Texas 78602\", \"https://www.google.com/maps/search/1700 Highway 71 East+Bastrop+Texas+78602\"], [\"#34 \\u2013 Baytown, TX\", \"4080 East Freeway Baytown, Texas 77521\", \"https://www.google.com/maps/search/4080 East Freeway+Baytown+Texas+77521\"], [\"#3 \\u2013 Brazoria, TX\", \"801 N Brooks Brazoria, Texas 77422\", \"https://www.google.com/maps/search/801 N Brooks+Brazoria+Texas+77422\"], [\"#32 \\u2013 Cypress, TX\", \"27106 US-290 Cypress, Texas 77433\", \"https://www.google.com/maps/search/27106 US-290+Cypress+Texas+77433\"], [\"#39 \\u2013 Denton, TX\", \"2800 S Interstate 35 E Denton, Texas 76210\", \"https://www.google.com/maps/search/2800 S Interstate 35 E+Denton+Texas+76210\"], [\"#24 \\u2013 Eagle Lake, TX\", \"505 E Main St Eagle Lake, Texas 77434\", \"https://www.google.com/maps/search/505 E Main St+Eagle Lake+Texas+77434\"], [\"#48 \\u2013 Ennis, TX\", \"1402 South IH- 45 Ennis, Texas 75119\", \"https://www.google.com/maps/search/1402 South IH- 45+Ennis+Texas+75119\"], [\"#37 \\u2013 Fort Worth, TX\", \"15901 N Freeway Fort Worth, Texas 76177\", \"https://www.google.com/maps/search/15901 N Freeway+Fort Worth+Texas+76177\"], [\"#7 \\u2013 Freeport, TX\", \"4231 E. Hwy 332 Freeport, Texas 77541\", \"https://www.google.com/maps/search/4231 E. Hwy 332+Freeport+Texas+77541\"], [\"#8 \\u2013 Freeport, TX\", \"1002 N Brazosport Blvd. Freeport, Texas 77541\", \"https://www.google.com/maps/search/1002 N Brazosport Blvd.+Freeport+Texas+77541\"], [\"#16 \\u2013 Giddings, TX\", \"2375 E Austin St Giddings, Texas 78942\", \"https://www.google.com/maps/search/2375 E Austin St+Giddings+Texas+78942\"], [\"#40 \\u2013 Katy, TX\", \"27700 Katy Fwy Katy, Texas 77494\", \"https://www.google.com/maps/search/27700 Katy Fwy+Katy+Texas+77494\"], [\"#1 \\u2013 Lake Jackson, TX\", \"899 Oyster Creek Drive Lake Jackson, Texas 77566\", \"https://www.google.com/maps/search/899 Oyster Creek Drive+Lake Jackson+Texas+77566\"], [\"#2 \\u2013 Lake Jackson, TX\", \"101 N Hwy 2004 Lake Jackson, Texas 77566\", \"https://www.google.com/maps/search/101 N Hwy 2004+Lake Jackson+Texas+77566\"], [\"#29 \\u2013 Lake Jackson, TX\", \"598 Hwy 332 Lake Jackson, Texas 77566\", \"https://www.google.com/maps/search/598 Hwy 332+Lake Jackson+Texas+77566\"], [\"#23 \\u2013 League City, TX\", \"1702 League City Pkwy League City, Texas 77573\", \"https://www.google.com/maps/search/1702 League City Pkwy+League City+Texas+77573\"], [\"#17 \\u2013 Luling, TX\", \"10070 West IH 10 Luling, Texas 78658\", \"https://www.google.com/maps/search/10070 West IH 10+Luling+Texas+78658\"], [\"#26 \\u2013 Madisonville, TX\", \"205 IH-45 South Madisonville, Texas 77864\", \"https://www.google.com/maps/search/205 IH-45 South+Madisonville+Texas+77864\"], [\"#44 \\u2013 Melissa, TX\", \"1550 Central Texas Expressway Melissa, Texas 75454\", \"https://www.google.com/maps/search/1550 Central Texas Expressway+Melissa+Texas+75454\"], [\"#22 \\u2013 New Braunfels, TX\", \"2760 IH 35 North New Braunfels, Texas 78130\", \"https://www.google.com/maps/search/2760 IH 35 North+New Braunfels+Texas+78130\"], [\"#19 \\u2013 Pearland, TX\", \"2541 S Main St Pearland, Texas 77584\", \"https://www.google.com/maps/search/2541 S Main St+Pearland+Texas+77584\"], [\"#20 \\u2013 Pearland, TX\", \"11151 Shadow Creek Pky Pearland, Texas 77584\", \"https://www.google.com/maps/search/11151 Shadow Creek Pky+Pearland+Texas+77584\"], [\"#12 \\u2013 Port Lavaca, TX\", \"2318 W Main Port Lavaca, Texas 77979\", \"https://www.google.com/maps/search/2318 W Main+Port Lavaca+Texas+77979\"], [\"#31 \\u2013 Richmond, TX\", \"1243 Crabb River Rd Richmond, Texas 77469\", \"https://www.google.com/maps/search/1243 Crabb River Rd+Richmond+Texas+77469\"], [\"#38 \\u2013 Royse City, TX\", \"5005 E Interstate 30 Royse City, Texas 75189\", \"https://www.google.com/maps/search/5005 E Interstate 30+Royse City+Texas+75189\"], [\"#35 \\u2013 Temple, TX\", \"4155 N General Bruce Dr. Temple, Texas 76501\", \"https://www.google.com/maps/search/4155 N General Bruce Dr.+Temple+Texas+76501\"], [\"#36 \\u2013 Terrell, TX\", \"506 W. IH 20 Terrell, Texas 75160\", \"https://www.google.com/maps/search/506 W. IH 20+Terrell+Texas+75160\"], [\"#33 \\u2013 Texas City, TX\", \"6201 Gulf Fwy (IH 45) Texas City, Texas 77591\", \"https://www.google.com/maps/search/6201 Gulf Fwy (IH 45)+Texas City+Texas+77591\"], [\"#18 \\u2013 Waller, TX\", \"40900 US Hwy 290 Bypass Waller, Texas 77484\", \"https://www.google.com/maps/search/40900 US Hwy 290 Bypass+Waller+Texas+77484\"], [\"#30 \\u2013 Wharton, TX\", \"10484 US 59 Road Wharton, Texas 77488\", \"https://www.google.com/maps/search/10484 US 59 Road+Wharton+Texas+77488\"]];\n",
       "\n",
       "    // Define the dt_args\n",
       "    let dt_args = {\"order\": []};\n",
       "    dt_args[\"data\"] = data;\n",
       "\n",
       "    $(document).ready(function () {\n",
       "        \n",
       "        $('#ce46ef96-354f-44f4-865b-d95b33a4aecf').DataTable(dt_args);\n",
       "    });\n",
       "</script>\n",
       "</div>\n"
      ],
      "text/plain": [
       "<IPython.core.display.HTML object>"
      ]
     },
     "metadata": {},
     "output_type": "display_data"
    }
   ],
   "source": [
    "buc_ees_list = []\n",
    "\n",
    "# I have a file located in data/locations.html. I can read it with open() and pass it to BeautifulSoup.\n",
    "with open('../data/locations.html') as f:\n",
    "    soup = BeautifulSoup(f, 'html.parser')\n",
    "\n",
    "# Find all the divs with the class 'bucees-location'\n",
    "locations = soup.find_all('div', class_='bucees-location')\n",
    "\n",
    "# Print each of the locations\n",
    "for location in locations:\n",
    "    \n",
    "    # Find the address. It is in a div with the class 'bucees-location-address'. Only search the direct children.\n",
    "    address = location.find('div', class_='bucees-location-address')\n",
    "\n",
    "    # Replace <br /> with a space\n",
    "    for br in address.find_all('br'):\n",
    "        br.replace_with(' ')\n",
    "\n",
    "    # Remove text that's in <small> tags\n",
    "    for small in address.find_all('small'):\n",
    "        small.decompose()\n",
    "\n",
    "    # Remove newline characters from the address\n",
    "    address = address.text.replace('\\n', ' ')\n",
    "\n",
    "    address = address.strip()\n",
    "\n",
    "    # Remove consecutive spaces\n",
    "    while '  ' in address:\n",
    "        address = address.replace('  ', ' ')\n",
    "\n",
    "    # Get the href located inside the div tags with a class of bucees-location-directions\n",
    "    directions = location.find('div', class_='bucees-location-directions').find('a')['href']\n",
    "\n",
    "    buc_ees_list.append(\n",
    "        {\n",
    "            'name': location.find('h4').text,\n",
    "            'address': address,\n",
    "            'directions': directions,\n",
    "        }\n",
    "    )\n",
    "\n",
    "# Create a DataFrame from the list of dictionaries\n",
    "df = pd.DataFrame(buc_ees_list)\n",
    "\n",
    "df.to_csv('../output/buc-ees_directory.csv', index=False)\n",
    "\n",
    "# Display the DataFrame\n",
    "df"
   ]
  }
 ],
 "metadata": {
  "kernelspec": {
   "display_name": "venv",
   "language": "python",
   "name": "python3"
  },
  "language_info": {
   "codemirror_mode": {
    "name": "ipython",
    "version": 3
   },
   "file_extension": ".py",
   "mimetype": "text/x-python",
   "name": "python",
   "nbconvert_exporter": "python",
   "pygments_lexer": "ipython3",
   "version": "3.10.4"
  },
  "orig_nbformat": 4
 },
 "nbformat": 4,
 "nbformat_minor": 2
}
