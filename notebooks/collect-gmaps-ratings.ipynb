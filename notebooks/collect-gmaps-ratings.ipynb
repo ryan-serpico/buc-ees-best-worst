{
 "cells": [
  {
   "attachments": {},
   "cell_type": "markdown",
   "metadata": {},
   "source": [
    "# Collect Google Maps ratings\n",
    "\n",
    "In this notebook I collect the Google Maps rating for each Buc-ee's location. I use the Google Maps API to get the rating for each location. I then save the results to a CSV file."
   ]
  },
  {
   "cell_type": "code",
   "execution_count": 17,
   "metadata": {},
   "outputs": [],
   "source": [
    "# We import the os module to get the API key from the .env file\n",
    "import os\n",
    "import time\n",
    "\n",
    "# For data manipulation and analysis we import pandas\n",
    "import pandas as pd\n",
    "\n",
    "# To display data in a table we import itables\n",
    "from itables import show\n",
    "\n",
    "# To collect data from Google Maps API we import googlemaps\n",
    "import googlemaps\n",
    "\n",
    "# We don't want our API key to be public, so we use dotenv to load it from a .env file\n",
    "from dotenv import load_dotenv"
   ]
  },
  {
   "attachments": {},
   "cell_type": "markdown",
   "metadata": {},
   "source": [
    "We need to enter our Google Maps API key in the cell below. You can get a key from the [Google Cloud Platform](https://cloud.google.com/maps-platform/)."
   ]
  },
  {
   "cell_type": "code",
   "execution_count": 18,
   "metadata": {},
   "outputs": [],
   "source": [
    "load_dotenv()\n",
    "\n",
    "gmaps = googlemaps.Client(key=os.getenv('GOOGLE_MAPS_API_KEY'))"
   ]
  },
  {
   "cell_type": "code",
   "execution_count": 19,
   "metadata": {},
   "outputs": [
    {
     "data": {
      "text/html": [
       "<div>\n",
       "<style scoped>\n",
       "    .dataframe tbody tr th:only-of-type {\n",
       "        vertical-align: middle;\n",
       "    }\n",
       "\n",
       "    .dataframe tbody tr th {\n",
       "        vertical-align: top;\n",
       "    }\n",
       "\n",
       "    .dataframe thead th {\n",
       "        text-align: right;\n",
       "    }\n",
       "</style>\n",
       "<table border=\"1\" class=\"dataframe\">\n",
       "  <thead>\n",
       "    <tr style=\"text-align: right;\">\n",
       "      <th></th>\n",
       "      <th>name</th>\n",
       "      <th>address</th>\n",
       "      <th>directions</th>\n",
       "    </tr>\n",
       "  </thead>\n",
       "  <tbody>\n",
       "    <tr>\n",
       "      <th>0</th>\n",
       "      <td>#57 – Athens, AL</td>\n",
       "      <td>2328 Lindsay Lane South Athens, AL 35613</td>\n",
       "      <td>https://www.google.com/maps/search/2328 Lindsa...</td>\n",
       "    </tr>\n",
       "    <tr>\n",
       "      <th>1</th>\n",
       "      <td>#43 – Leeds, AL</td>\n",
       "      <td>6900 Buc-ee’s Blvd. Leeds, Alabama 35094</td>\n",
       "      <td>https://www.google.com/maps/search/6900 Buc-ee...</td>\n",
       "    </tr>\n",
       "    <tr>\n",
       "      <th>2</th>\n",
       "      <td>#42 – Loxley, AL</td>\n",
       "      <td>20403 County Rd. 68 Robertsdale, Alabama 36567</td>\n",
       "      <td>https://www.google.com/maps/search/20403 Count...</td>\n",
       "    </tr>\n",
       "    <tr>\n",
       "      <th>3</th>\n",
       "      <td>#47 – Daytona Beach, FL</td>\n",
       "      <td>2330 Gateway North Drive Daytona Beach, FL 32117</td>\n",
       "      <td>https://www.google.com/maps/search/2330 Gatewa...</td>\n",
       "    </tr>\n",
       "    <tr>\n",
       "      <th>4</th>\n",
       "      <td>#46 – Saint Augustine, FL</td>\n",
       "      <td>200 World Commerce Pkwy Saint Augustine, Flori...</td>\n",
       "      <td>https://www.google.com/maps/search/200 World C...</td>\n",
       "    </tr>\n",
       "  </tbody>\n",
       "</table>\n",
       "</div>"
      ],
      "text/plain": [
       "                        name  \\\n",
       "0           #57 – Athens, AL   \n",
       "1            #43 – Leeds, AL   \n",
       "2           #42 – Loxley, AL   \n",
       "3    #47 – Daytona Beach, FL   \n",
       "4  #46 – Saint Augustine, FL   \n",
       "\n",
       "                                             address  \\\n",
       "0           2328 Lindsay Lane South Athens, AL 35613   \n",
       "1           6900 Buc-ee’s Blvd. Leeds, Alabama 35094   \n",
       "2     20403 County Rd. 68 Robertsdale, Alabama 36567   \n",
       "3   2330 Gateway North Drive Daytona Beach, FL 32117   \n",
       "4  200 World Commerce Pkwy Saint Augustine, Flori...   \n",
       "\n",
       "                                          directions  \n",
       "0  https://www.google.com/maps/search/2328 Lindsa...  \n",
       "1  https://www.google.com/maps/search/6900 Buc-ee...  \n",
       "2  https://www.google.com/maps/search/20403 Count...  \n",
       "3  https://www.google.com/maps/search/2330 Gatewa...  \n",
       "4  https://www.google.com/maps/search/200 World C...  "
      ]
     },
     "execution_count": 19,
     "metadata": {},
     "output_type": "execute_result"
    }
   ],
   "source": [
    "buc_ees_df = pd.read_csv('../output/buc-ees_directory.csv')\n",
    "buc_ees_df.head()"
   ]
  },
  {
   "cell_type": "code",
   "execution_count": 20,
   "metadata": {},
   "outputs": [],
   "source": [
    "def get_google_maps_ratings(place_name):\n",
    "    \"\"\"\n",
    "    Returns the rating and total number of ratings for a place on Google Maps.\n",
    "    Example: get_google_maps_ratings('The White House')\n",
    "    Output: (4.5, 12345)\n",
    "    \"\"\"\n",
    "    place_result = gmaps.places(place_name)\n",
    "    place_id = place_result['results'][0]['place_id']\n",
    "\n",
    "    place = gmaps.place(place_id = place_id)\n",
    "\n",
    "    rating = place['result']['rating']\n",
    "    total_ratings = place['result']['user_ratings_total']\n",
    "    return rating, total_ratings"
   ]
  },
  {
   "cell_type": "code",
   "execution_count": 21,
   "metadata": {},
   "outputs": [
    {
     "ename": "KeyboardInterrupt",
     "evalue": "",
     "output_type": "error",
     "traceback": [
      "\u001b[0;31m---------------------------------------------------------------------------\u001b[0m",
      "\u001b[0;31m_OverQueryLimit\u001b[0m                           Traceback (most recent call last)",
      "File \u001b[0;32m~/dev/SAEN/2023/buc-ees-best-worst/venv/lib/python3.10/site-packages/googlemaps/client.py:340\u001b[0m, in \u001b[0;36mClient._request\u001b[0;34m(self, url, params, first_request_time, retry_counter, base_url, accepts_clientid, extract_body, requests_kwargs, post_json)\u001b[0m\n\u001b[1;32m    339\u001b[0m \u001b[39melse\u001b[39;00m:\n\u001b[0;32m--> 340\u001b[0m     result \u001b[39m=\u001b[39m \u001b[39mself\u001b[39;49m\u001b[39m.\u001b[39;49m_get_body(response)\n\u001b[1;32m    341\u001b[0m \u001b[39mself\u001b[39m\u001b[39m.\u001b[39msent_times\u001b[39m.\u001b[39mappend(time\u001b[39m.\u001b[39mtime())\n",
      "File \u001b[0;32m~/dev/SAEN/2023/buc-ees-best-worst/venv/lib/python3.10/site-packages/googlemaps/client.py:366\u001b[0m, in \u001b[0;36mClient._get_body\u001b[0;34m(self, response)\u001b[0m\n\u001b[1;32m    365\u001b[0m \u001b[39mif\u001b[39;00m api_status \u001b[39m==\u001b[39m \u001b[39m\"\u001b[39m\u001b[39mOVER_QUERY_LIMIT\u001b[39m\u001b[39m\"\u001b[39m:\n\u001b[0;32m--> 366\u001b[0m     \u001b[39mraise\u001b[39;00m googlemaps\u001b[39m.\u001b[39mexceptions\u001b[39m.\u001b[39m_OverQueryLimit(\n\u001b[1;32m    367\u001b[0m         api_status, body\u001b[39m.\u001b[39mget(\u001b[39m\"\u001b[39m\u001b[39merror_message\u001b[39m\u001b[39m\"\u001b[39m))\n\u001b[1;32m    369\u001b[0m \u001b[39mraise\u001b[39;00m googlemaps\u001b[39m.\u001b[39mexceptions\u001b[39m.\u001b[39mApiError(api_status,\n\u001b[1;32m    370\u001b[0m                                      body\u001b[39m.\u001b[39mget(\u001b[39m\"\u001b[39m\u001b[39merror_message\u001b[39m\u001b[39m\"\u001b[39m))\n",
      "\u001b[0;31m_OverQueryLimit\u001b[0m: OVER_QUERY_LIMIT (You have exceeded your rate-limit for this API.)",
      "\nDuring handling of the above exception, another exception occurred:\n",
      "\u001b[0;31m_OverQueryLimit\u001b[0m                           Traceback (most recent call last)",
      "File \u001b[0;32m~/dev/SAEN/2023/buc-ees-best-worst/venv/lib/python3.10/site-packages/googlemaps/client.py:340\u001b[0m, in \u001b[0;36mClient._request\u001b[0;34m(self, url, params, first_request_time, retry_counter, base_url, accepts_clientid, extract_body, requests_kwargs, post_json)\u001b[0m\n\u001b[1;32m    339\u001b[0m \u001b[39melse\u001b[39;00m:\n\u001b[0;32m--> 340\u001b[0m     result \u001b[39m=\u001b[39m \u001b[39mself\u001b[39;49m\u001b[39m.\u001b[39;49m_get_body(response)\n\u001b[1;32m    341\u001b[0m \u001b[39mself\u001b[39m\u001b[39m.\u001b[39msent_times\u001b[39m.\u001b[39mappend(time\u001b[39m.\u001b[39mtime())\n",
      "File \u001b[0;32m~/dev/SAEN/2023/buc-ees-best-worst/venv/lib/python3.10/site-packages/googlemaps/client.py:366\u001b[0m, in \u001b[0;36mClient._get_body\u001b[0;34m(self, response)\u001b[0m\n\u001b[1;32m    365\u001b[0m \u001b[39mif\u001b[39;00m api_status \u001b[39m==\u001b[39m \u001b[39m\"\u001b[39m\u001b[39mOVER_QUERY_LIMIT\u001b[39m\u001b[39m\"\u001b[39m:\n\u001b[0;32m--> 366\u001b[0m     \u001b[39mraise\u001b[39;00m googlemaps\u001b[39m.\u001b[39mexceptions\u001b[39m.\u001b[39m_OverQueryLimit(\n\u001b[1;32m    367\u001b[0m         api_status, body\u001b[39m.\u001b[39mget(\u001b[39m\"\u001b[39m\u001b[39merror_message\u001b[39m\u001b[39m\"\u001b[39m))\n\u001b[1;32m    369\u001b[0m \u001b[39mraise\u001b[39;00m googlemaps\u001b[39m.\u001b[39mexceptions\u001b[39m.\u001b[39mApiError(api_status,\n\u001b[1;32m    370\u001b[0m                                      body\u001b[39m.\u001b[39mget(\u001b[39m\"\u001b[39m\u001b[39merror_message\u001b[39m\u001b[39m\"\u001b[39m))\n",
      "\u001b[0;31m_OverQueryLimit\u001b[0m: OVER_QUERY_LIMIT (You have exceeded your rate-limit for this API.)",
      "\nDuring handling of the above exception, another exception occurred:\n",
      "\u001b[0;31m_OverQueryLimit\u001b[0m                           Traceback (most recent call last)",
      "File \u001b[0;32m~/dev/SAEN/2023/buc-ees-best-worst/venv/lib/python3.10/site-packages/googlemaps/client.py:340\u001b[0m, in \u001b[0;36mClient._request\u001b[0;34m(self, url, params, first_request_time, retry_counter, base_url, accepts_clientid, extract_body, requests_kwargs, post_json)\u001b[0m\n\u001b[1;32m    339\u001b[0m \u001b[39melse\u001b[39;00m:\n\u001b[0;32m--> 340\u001b[0m     result \u001b[39m=\u001b[39m \u001b[39mself\u001b[39;49m\u001b[39m.\u001b[39;49m_get_body(response)\n\u001b[1;32m    341\u001b[0m \u001b[39mself\u001b[39m\u001b[39m.\u001b[39msent_times\u001b[39m.\u001b[39mappend(time\u001b[39m.\u001b[39mtime())\n",
      "File \u001b[0;32m~/dev/SAEN/2023/buc-ees-best-worst/venv/lib/python3.10/site-packages/googlemaps/client.py:366\u001b[0m, in \u001b[0;36mClient._get_body\u001b[0;34m(self, response)\u001b[0m\n\u001b[1;32m    365\u001b[0m \u001b[39mif\u001b[39;00m api_status \u001b[39m==\u001b[39m \u001b[39m\"\u001b[39m\u001b[39mOVER_QUERY_LIMIT\u001b[39m\u001b[39m\"\u001b[39m:\n\u001b[0;32m--> 366\u001b[0m     \u001b[39mraise\u001b[39;00m googlemaps\u001b[39m.\u001b[39mexceptions\u001b[39m.\u001b[39m_OverQueryLimit(\n\u001b[1;32m    367\u001b[0m         api_status, body\u001b[39m.\u001b[39mget(\u001b[39m\"\u001b[39m\u001b[39merror_message\u001b[39m\u001b[39m\"\u001b[39m))\n\u001b[1;32m    369\u001b[0m \u001b[39mraise\u001b[39;00m googlemaps\u001b[39m.\u001b[39mexceptions\u001b[39m.\u001b[39mApiError(api_status,\n\u001b[1;32m    370\u001b[0m                                      body\u001b[39m.\u001b[39mget(\u001b[39m\"\u001b[39m\u001b[39merror_message\u001b[39m\u001b[39m\"\u001b[39m))\n",
      "\u001b[0;31m_OverQueryLimit\u001b[0m: OVER_QUERY_LIMIT (You have exceeded your rate-limit for this API.)",
      "\nDuring handling of the above exception, another exception occurred:\n",
      "\u001b[0;31m_OverQueryLimit\u001b[0m                           Traceback (most recent call last)",
      "File \u001b[0;32m~/dev/SAEN/2023/buc-ees-best-worst/venv/lib/python3.10/site-packages/googlemaps/client.py:340\u001b[0m, in \u001b[0;36mClient._request\u001b[0;34m(self, url, params, first_request_time, retry_counter, base_url, accepts_clientid, extract_body, requests_kwargs, post_json)\u001b[0m\n\u001b[1;32m    339\u001b[0m \u001b[39melse\u001b[39;00m:\n\u001b[0;32m--> 340\u001b[0m     result \u001b[39m=\u001b[39m \u001b[39mself\u001b[39;49m\u001b[39m.\u001b[39;49m_get_body(response)\n\u001b[1;32m    341\u001b[0m \u001b[39mself\u001b[39m\u001b[39m.\u001b[39msent_times\u001b[39m.\u001b[39mappend(time\u001b[39m.\u001b[39mtime())\n",
      "File \u001b[0;32m~/dev/SAEN/2023/buc-ees-best-worst/venv/lib/python3.10/site-packages/googlemaps/client.py:366\u001b[0m, in \u001b[0;36mClient._get_body\u001b[0;34m(self, response)\u001b[0m\n\u001b[1;32m    365\u001b[0m \u001b[39mif\u001b[39;00m api_status \u001b[39m==\u001b[39m \u001b[39m\"\u001b[39m\u001b[39mOVER_QUERY_LIMIT\u001b[39m\u001b[39m\"\u001b[39m:\n\u001b[0;32m--> 366\u001b[0m     \u001b[39mraise\u001b[39;00m googlemaps\u001b[39m.\u001b[39mexceptions\u001b[39m.\u001b[39m_OverQueryLimit(\n\u001b[1;32m    367\u001b[0m         api_status, body\u001b[39m.\u001b[39mget(\u001b[39m\"\u001b[39m\u001b[39merror_message\u001b[39m\u001b[39m\"\u001b[39m))\n\u001b[1;32m    369\u001b[0m \u001b[39mraise\u001b[39;00m googlemaps\u001b[39m.\u001b[39mexceptions\u001b[39m.\u001b[39mApiError(api_status,\n\u001b[1;32m    370\u001b[0m                                      body\u001b[39m.\u001b[39mget(\u001b[39m\"\u001b[39m\u001b[39merror_message\u001b[39m\u001b[39m\"\u001b[39m))\n",
      "\u001b[0;31m_OverQueryLimit\u001b[0m: OVER_QUERY_LIMIT (You have exceeded your rate-limit for this API.)",
      "\nDuring handling of the above exception, another exception occurred:\n",
      "\u001b[0;31m_OverQueryLimit\u001b[0m                           Traceback (most recent call last)",
      "File \u001b[0;32m~/dev/SAEN/2023/buc-ees-best-worst/venv/lib/python3.10/site-packages/googlemaps/client.py:340\u001b[0m, in \u001b[0;36mClient._request\u001b[0;34m(self, url, params, first_request_time, retry_counter, base_url, accepts_clientid, extract_body, requests_kwargs, post_json)\u001b[0m\n\u001b[1;32m    339\u001b[0m \u001b[39melse\u001b[39;00m:\n\u001b[0;32m--> 340\u001b[0m     result \u001b[39m=\u001b[39m \u001b[39mself\u001b[39;49m\u001b[39m.\u001b[39;49m_get_body(response)\n\u001b[1;32m    341\u001b[0m \u001b[39mself\u001b[39m\u001b[39m.\u001b[39msent_times\u001b[39m.\u001b[39mappend(time\u001b[39m.\u001b[39mtime())\n",
      "File \u001b[0;32m~/dev/SAEN/2023/buc-ees-best-worst/venv/lib/python3.10/site-packages/googlemaps/client.py:366\u001b[0m, in \u001b[0;36mClient._get_body\u001b[0;34m(self, response)\u001b[0m\n\u001b[1;32m    365\u001b[0m \u001b[39mif\u001b[39;00m api_status \u001b[39m==\u001b[39m \u001b[39m\"\u001b[39m\u001b[39mOVER_QUERY_LIMIT\u001b[39m\u001b[39m\"\u001b[39m:\n\u001b[0;32m--> 366\u001b[0m     \u001b[39mraise\u001b[39;00m googlemaps\u001b[39m.\u001b[39mexceptions\u001b[39m.\u001b[39m_OverQueryLimit(\n\u001b[1;32m    367\u001b[0m         api_status, body\u001b[39m.\u001b[39mget(\u001b[39m\"\u001b[39m\u001b[39merror_message\u001b[39m\u001b[39m\"\u001b[39m))\n\u001b[1;32m    369\u001b[0m \u001b[39mraise\u001b[39;00m googlemaps\u001b[39m.\u001b[39mexceptions\u001b[39m.\u001b[39mApiError(api_status,\n\u001b[1;32m    370\u001b[0m                                      body\u001b[39m.\u001b[39mget(\u001b[39m\"\u001b[39m\u001b[39merror_message\u001b[39m\u001b[39m\"\u001b[39m))\n",
      "\u001b[0;31m_OverQueryLimit\u001b[0m: OVER_QUERY_LIMIT (You have exceeded your rate-limit for this API.)",
      "\nDuring handling of the above exception, another exception occurred:\n",
      "\u001b[0;31m_OverQueryLimit\u001b[0m                           Traceback (most recent call last)",
      "File \u001b[0;32m~/dev/SAEN/2023/buc-ees-best-worst/venv/lib/python3.10/site-packages/googlemaps/client.py:340\u001b[0m, in \u001b[0;36mClient._request\u001b[0;34m(self, url, params, first_request_time, retry_counter, base_url, accepts_clientid, extract_body, requests_kwargs, post_json)\u001b[0m\n\u001b[1;32m    339\u001b[0m \u001b[39melse\u001b[39;00m:\n\u001b[0;32m--> 340\u001b[0m     result \u001b[39m=\u001b[39m \u001b[39mself\u001b[39;49m\u001b[39m.\u001b[39;49m_get_body(response)\n\u001b[1;32m    341\u001b[0m \u001b[39mself\u001b[39m\u001b[39m.\u001b[39msent_times\u001b[39m.\u001b[39mappend(time\u001b[39m.\u001b[39mtime())\n",
      "File \u001b[0;32m~/dev/SAEN/2023/buc-ees-best-worst/venv/lib/python3.10/site-packages/googlemaps/client.py:366\u001b[0m, in \u001b[0;36mClient._get_body\u001b[0;34m(self, response)\u001b[0m\n\u001b[1;32m    365\u001b[0m \u001b[39mif\u001b[39;00m api_status \u001b[39m==\u001b[39m \u001b[39m\"\u001b[39m\u001b[39mOVER_QUERY_LIMIT\u001b[39m\u001b[39m\"\u001b[39m:\n\u001b[0;32m--> 366\u001b[0m     \u001b[39mraise\u001b[39;00m googlemaps\u001b[39m.\u001b[39mexceptions\u001b[39m.\u001b[39m_OverQueryLimit(\n\u001b[1;32m    367\u001b[0m         api_status, body\u001b[39m.\u001b[39mget(\u001b[39m\"\u001b[39m\u001b[39merror_message\u001b[39m\u001b[39m\"\u001b[39m))\n\u001b[1;32m    369\u001b[0m \u001b[39mraise\u001b[39;00m googlemaps\u001b[39m.\u001b[39mexceptions\u001b[39m.\u001b[39mApiError(api_status,\n\u001b[1;32m    370\u001b[0m                                      body\u001b[39m.\u001b[39mget(\u001b[39m\"\u001b[39m\u001b[39merror_message\u001b[39m\u001b[39m\"\u001b[39m))\n",
      "\u001b[0;31m_OverQueryLimit\u001b[0m: OVER_QUERY_LIMIT (You have exceeded your rate-limit for this API.)",
      "\nDuring handling of the above exception, another exception occurred:\n",
      "\u001b[0;31m_OverQueryLimit\u001b[0m                           Traceback (most recent call last)",
      "File \u001b[0;32m~/dev/SAEN/2023/buc-ees-best-worst/venv/lib/python3.10/site-packages/googlemaps/client.py:340\u001b[0m, in \u001b[0;36mClient._request\u001b[0;34m(self, url, params, first_request_time, retry_counter, base_url, accepts_clientid, extract_body, requests_kwargs, post_json)\u001b[0m\n\u001b[1;32m    339\u001b[0m \u001b[39melse\u001b[39;00m:\n\u001b[0;32m--> 340\u001b[0m     result \u001b[39m=\u001b[39m \u001b[39mself\u001b[39;49m\u001b[39m.\u001b[39;49m_get_body(response)\n\u001b[1;32m    341\u001b[0m \u001b[39mself\u001b[39m\u001b[39m.\u001b[39msent_times\u001b[39m.\u001b[39mappend(time\u001b[39m.\u001b[39mtime())\n",
      "File \u001b[0;32m~/dev/SAEN/2023/buc-ees-best-worst/venv/lib/python3.10/site-packages/googlemaps/client.py:366\u001b[0m, in \u001b[0;36mClient._get_body\u001b[0;34m(self, response)\u001b[0m\n\u001b[1;32m    365\u001b[0m \u001b[39mif\u001b[39;00m api_status \u001b[39m==\u001b[39m \u001b[39m\"\u001b[39m\u001b[39mOVER_QUERY_LIMIT\u001b[39m\u001b[39m\"\u001b[39m:\n\u001b[0;32m--> 366\u001b[0m     \u001b[39mraise\u001b[39;00m googlemaps\u001b[39m.\u001b[39mexceptions\u001b[39m.\u001b[39m_OverQueryLimit(\n\u001b[1;32m    367\u001b[0m         api_status, body\u001b[39m.\u001b[39mget(\u001b[39m\"\u001b[39m\u001b[39merror_message\u001b[39m\u001b[39m\"\u001b[39m))\n\u001b[1;32m    369\u001b[0m \u001b[39mraise\u001b[39;00m googlemaps\u001b[39m.\u001b[39mexceptions\u001b[39m.\u001b[39mApiError(api_status,\n\u001b[1;32m    370\u001b[0m                                      body\u001b[39m.\u001b[39mget(\u001b[39m\"\u001b[39m\u001b[39merror_message\u001b[39m\u001b[39m\"\u001b[39m))\n",
      "\u001b[0;31m_OverQueryLimit\u001b[0m: OVER_QUERY_LIMIT (You have exceeded your rate-limit for this API.)",
      "\nDuring handling of the above exception, another exception occurred:\n",
      "\u001b[0;31m_OverQueryLimit\u001b[0m                           Traceback (most recent call last)",
      "File \u001b[0;32m~/dev/SAEN/2023/buc-ees-best-worst/venv/lib/python3.10/site-packages/googlemaps/client.py:340\u001b[0m, in \u001b[0;36mClient._request\u001b[0;34m(self, url, params, first_request_time, retry_counter, base_url, accepts_clientid, extract_body, requests_kwargs, post_json)\u001b[0m\n\u001b[1;32m    339\u001b[0m \u001b[39melse\u001b[39;00m:\n\u001b[0;32m--> 340\u001b[0m     result \u001b[39m=\u001b[39m \u001b[39mself\u001b[39;49m\u001b[39m.\u001b[39;49m_get_body(response)\n\u001b[1;32m    341\u001b[0m \u001b[39mself\u001b[39m\u001b[39m.\u001b[39msent_times\u001b[39m.\u001b[39mappend(time\u001b[39m.\u001b[39mtime())\n",
      "File \u001b[0;32m~/dev/SAEN/2023/buc-ees-best-worst/venv/lib/python3.10/site-packages/googlemaps/client.py:366\u001b[0m, in \u001b[0;36mClient._get_body\u001b[0;34m(self, response)\u001b[0m\n\u001b[1;32m    365\u001b[0m \u001b[39mif\u001b[39;00m api_status \u001b[39m==\u001b[39m \u001b[39m\"\u001b[39m\u001b[39mOVER_QUERY_LIMIT\u001b[39m\u001b[39m\"\u001b[39m:\n\u001b[0;32m--> 366\u001b[0m     \u001b[39mraise\u001b[39;00m googlemaps\u001b[39m.\u001b[39mexceptions\u001b[39m.\u001b[39m_OverQueryLimit(\n\u001b[1;32m    367\u001b[0m         api_status, body\u001b[39m.\u001b[39mget(\u001b[39m\"\u001b[39m\u001b[39merror_message\u001b[39m\u001b[39m\"\u001b[39m))\n\u001b[1;32m    369\u001b[0m \u001b[39mraise\u001b[39;00m googlemaps\u001b[39m.\u001b[39mexceptions\u001b[39m.\u001b[39mApiError(api_status,\n\u001b[1;32m    370\u001b[0m                                      body\u001b[39m.\u001b[39mget(\u001b[39m\"\u001b[39m\u001b[39merror_message\u001b[39m\u001b[39m\"\u001b[39m))\n",
      "\u001b[0;31m_OverQueryLimit\u001b[0m: OVER_QUERY_LIMIT (You have exceeded your rate-limit for this API.)",
      "\nDuring handling of the above exception, another exception occurred:\n",
      "\u001b[0;31mKeyboardInterrupt\u001b[0m                         Traceback (most recent call last)",
      "Cell \u001b[0;32mIn[21], line 4\u001b[0m\n\u001b[1;32m      2\u001b[0m \u001b[39mfor\u001b[39;00m index, row \u001b[39min\u001b[39;00m buc_ees_df\u001b[39m.\u001b[39miterrows():\n\u001b[1;32m      3\u001b[0m     place_name \u001b[39m=\u001b[39m \u001b[39m\"\u001b[39m\u001b[39mBuc-ee\u001b[39m\u001b[39m'\u001b[39m\u001b[39ms \u001b[39m\u001b[39m\"\u001b[39m \u001b[39m+\u001b[39m row[\u001b[39m'\u001b[39m\u001b[39maddress\u001b[39m\u001b[39m'\u001b[39m]\n\u001b[0;32m----> 4\u001b[0m     rating, total_ratings \u001b[39m=\u001b[39m get_google_maps_ratings(place_name)\n\u001b[1;32m      5\u001b[0m     buc_ees_df\u001b[39m.\u001b[39mloc[index, \u001b[39m'\u001b[39m\u001b[39mrating\u001b[39m\u001b[39m'\u001b[39m] \u001b[39m=\u001b[39m rating\n\u001b[1;32m      6\u001b[0m     buc_ees_df\u001b[39m.\u001b[39mloc[index, \u001b[39m'\u001b[39m\u001b[39mtotal_ratings\u001b[39m\u001b[39m'\u001b[39m] \u001b[39m=\u001b[39m total_ratings\n",
      "Cell \u001b[0;32mIn[20], line 7\u001b[0m, in \u001b[0;36mget_google_maps_ratings\u001b[0;34m(place_name)\u001b[0m\n\u001b[1;32m      1\u001b[0m \u001b[39mdef\u001b[39;00m \u001b[39mget_google_maps_ratings\u001b[39m(place_name):\n\u001b[1;32m      2\u001b[0m \u001b[39m    \u001b[39m\u001b[39m\"\"\"\u001b[39;00m\n\u001b[1;32m      3\u001b[0m \u001b[39m    Returns the rating and total number of ratings for a place on Google Maps.\u001b[39;00m\n\u001b[1;32m      4\u001b[0m \u001b[39m    Example: get_google_maps_ratings('The White House')\u001b[39;00m\n\u001b[1;32m      5\u001b[0m \u001b[39m    Output: (4.5, 12345)\u001b[39;00m\n\u001b[1;32m      6\u001b[0m \u001b[39m    \"\"\"\u001b[39;00m\n\u001b[0;32m----> 7\u001b[0m     place_result \u001b[39m=\u001b[39m gmaps\u001b[39m.\u001b[39;49mplaces(place_name)\n\u001b[1;32m      8\u001b[0m     place_id \u001b[39m=\u001b[39m place_result[\u001b[39m'\u001b[39m\u001b[39mresults\u001b[39m\u001b[39m'\u001b[39m][\u001b[39m0\u001b[39m][\u001b[39m'\u001b[39m\u001b[39mplace_id\u001b[39m\u001b[39m'\u001b[39m]\n\u001b[1;32m     10\u001b[0m     place \u001b[39m=\u001b[39m gmaps\u001b[39m.\u001b[39mplace(place_id \u001b[39m=\u001b[39m place_id)\n",
      "File \u001b[0;32m~/dev/SAEN/2023/buc-ees-best-worst/venv/lib/python3.10/site-packages/googlemaps/client.py:445\u001b[0m, in \u001b[0;36mmake_api_method.<locals>.wrapper\u001b[0;34m(*args, **kwargs)\u001b[0m\n\u001b[1;32m    442\u001b[0m \u001b[39m@functools\u001b[39m\u001b[39m.\u001b[39mwraps(func)\n\u001b[1;32m    443\u001b[0m \u001b[39mdef\u001b[39;00m \u001b[39mwrapper\u001b[39m(\u001b[39m*\u001b[39margs, \u001b[39m*\u001b[39m\u001b[39m*\u001b[39mkwargs):\n\u001b[1;32m    444\u001b[0m     args[\u001b[39m0\u001b[39m]\u001b[39m.\u001b[39m_extra_params \u001b[39m=\u001b[39m kwargs\u001b[39m.\u001b[39mpop(\u001b[39m\"\u001b[39m\u001b[39mextra_params\u001b[39m\u001b[39m\"\u001b[39m, \u001b[39mNone\u001b[39;00m)\n\u001b[0;32m--> 445\u001b[0m     result \u001b[39m=\u001b[39m func(\u001b[39m*\u001b[39;49margs, \u001b[39m*\u001b[39;49m\u001b[39m*\u001b[39;49mkwargs)\n\u001b[1;32m    446\u001b[0m     \u001b[39mtry\u001b[39;00m:\n\u001b[1;32m    447\u001b[0m         \u001b[39mdel\u001b[39;00m args[\u001b[39m0\u001b[39m]\u001b[39m.\u001b[39m_extra_params\n",
      "File \u001b[0;32m~/dev/SAEN/2023/buc-ees-best-worst/venv/lib/python3.10/site-packages/googlemaps/places.py:259\u001b[0m, in \u001b[0;36mplaces\u001b[0;34m(client, query, location, radius, language, min_price, max_price, open_now, type, region, page_token)\u001b[0m\n\u001b[1;32m    198\u001b[0m \u001b[39mdef\u001b[39;00m \u001b[39mplaces\u001b[39m(\n\u001b[1;32m    199\u001b[0m     client,\n\u001b[1;32m    200\u001b[0m     query\u001b[39m=\u001b[39m\u001b[39mNone\u001b[39;00m,\n\u001b[0;32m   (...)\u001b[0m\n\u001b[1;32m    209\u001b[0m     page_token\u001b[39m=\u001b[39m\u001b[39mNone\u001b[39;00m,\n\u001b[1;32m    210\u001b[0m ):\n\u001b[1;32m    211\u001b[0m \u001b[39m    \u001b[39m\u001b[39m\"\"\"\u001b[39;00m\n\u001b[1;32m    212\u001b[0m \u001b[39m    Places search.\u001b[39;00m\n\u001b[1;32m    213\u001b[0m \n\u001b[0;32m   (...)\u001b[0m\n\u001b[1;32m    257\u001b[0m \u001b[39m        next_page_token: token for retrieving the next page of results\u001b[39;00m\n\u001b[1;32m    258\u001b[0m \u001b[39m    \"\"\"\u001b[39;00m\n\u001b[0;32m--> 259\u001b[0m     \u001b[39mreturn\u001b[39;00m _places(\n\u001b[1;32m    260\u001b[0m         client,\n\u001b[1;32m    261\u001b[0m         \u001b[39m\"\u001b[39;49m\u001b[39mtext\u001b[39;49m\u001b[39m\"\u001b[39;49m,\n\u001b[1;32m    262\u001b[0m         query\u001b[39m=\u001b[39;49mquery,\n\u001b[1;32m    263\u001b[0m         location\u001b[39m=\u001b[39;49mlocation,\n\u001b[1;32m    264\u001b[0m         radius\u001b[39m=\u001b[39;49mradius,\n\u001b[1;32m    265\u001b[0m         language\u001b[39m=\u001b[39;49mlanguage,\n\u001b[1;32m    266\u001b[0m         min_price\u001b[39m=\u001b[39;49mmin_price,\n\u001b[1;32m    267\u001b[0m         max_price\u001b[39m=\u001b[39;49mmax_price,\n\u001b[1;32m    268\u001b[0m         open_now\u001b[39m=\u001b[39;49mopen_now,\n\u001b[1;32m    269\u001b[0m         \u001b[39mtype\u001b[39;49m\u001b[39m=\u001b[39;49m\u001b[39mtype\u001b[39;49m,\n\u001b[1;32m    270\u001b[0m         region\u001b[39m=\u001b[39;49mregion,\n\u001b[1;32m    271\u001b[0m         page_token\u001b[39m=\u001b[39;49mpage_token,\n\u001b[1;32m    272\u001b[0m     )\n",
      "File \u001b[0;32m~/dev/SAEN/2023/buc-ees-best-worst/venv/lib/python3.10/site-packages/googlemaps/places.py:425\u001b[0m, in \u001b[0;36m_places\u001b[0;34m(client, url_part, query, location, radius, keyword, language, min_price, max_price, name, open_now, rank_by, type, region, page_token)\u001b[0m\n\u001b[1;32m    422\u001b[0m     params[\u001b[39m\"\u001b[39m\u001b[39mpagetoken\u001b[39m\u001b[39m\"\u001b[39m] \u001b[39m=\u001b[39m page_token\n\u001b[1;32m    424\u001b[0m url \u001b[39m=\u001b[39m \u001b[39m\"\u001b[39m\u001b[39m/maps/api/place/\u001b[39m\u001b[39m%s\u001b[39;00m\u001b[39msearch/json\u001b[39m\u001b[39m\"\u001b[39m \u001b[39m%\u001b[39m url_part\n\u001b[0;32m--> 425\u001b[0m \u001b[39mreturn\u001b[39;00m client\u001b[39m.\u001b[39;49m_request(url, params)\n",
      "File \u001b[0;32m~/dev/SAEN/2023/buc-ees-best-worst/venv/lib/python3.10/site-packages/googlemaps/client.py:348\u001b[0m, in \u001b[0;36mClient._request\u001b[0;34m(self, url, params, first_request_time, retry_counter, base_url, accepts_clientid, extract_body, requests_kwargs, post_json)\u001b[0m\n\u001b[1;32m    345\u001b[0m     \u001b[39mraise\u001b[39;00m\n\u001b[1;32m    347\u001b[0m \u001b[39m# Retry request.\u001b[39;00m\n\u001b[0;32m--> 348\u001b[0m \u001b[39mreturn\u001b[39;00m \u001b[39mself\u001b[39;49m\u001b[39m.\u001b[39;49m_request(url, params, first_request_time,\n\u001b[1;32m    349\u001b[0m                      retry_counter \u001b[39m+\u001b[39;49m \u001b[39m1\u001b[39;49m, base_url, accepts_clientid,\n\u001b[1;32m    350\u001b[0m                      extract_body, requests_kwargs, post_json)\n",
      "File \u001b[0;32m~/dev/SAEN/2023/buc-ees-best-worst/venv/lib/python3.10/site-packages/googlemaps/client.py:348\u001b[0m, in \u001b[0;36mClient._request\u001b[0;34m(self, url, params, first_request_time, retry_counter, base_url, accepts_clientid, extract_body, requests_kwargs, post_json)\u001b[0m\n\u001b[1;32m    345\u001b[0m     \u001b[39mraise\u001b[39;00m\n\u001b[1;32m    347\u001b[0m \u001b[39m# Retry request.\u001b[39;00m\n\u001b[0;32m--> 348\u001b[0m \u001b[39mreturn\u001b[39;00m \u001b[39mself\u001b[39;49m\u001b[39m.\u001b[39;49m_request(url, params, first_request_time,\n\u001b[1;32m    349\u001b[0m                      retry_counter \u001b[39m+\u001b[39;49m \u001b[39m1\u001b[39;49m, base_url, accepts_clientid,\n\u001b[1;32m    350\u001b[0m                      extract_body, requests_kwargs, post_json)\n",
      "    \u001b[0;31m[... skipping similar frames: Client._request at line 348 (5 times)]\u001b[0m\n",
      "File \u001b[0;32m~/dev/SAEN/2023/buc-ees-best-worst/venv/lib/python3.10/site-packages/googlemaps/client.py:348\u001b[0m, in \u001b[0;36mClient._request\u001b[0;34m(self, url, params, first_request_time, retry_counter, base_url, accepts_clientid, extract_body, requests_kwargs, post_json)\u001b[0m\n\u001b[1;32m    345\u001b[0m     \u001b[39mraise\u001b[39;00m\n\u001b[1;32m    347\u001b[0m \u001b[39m# Retry request.\u001b[39;00m\n\u001b[0;32m--> 348\u001b[0m \u001b[39mreturn\u001b[39;00m \u001b[39mself\u001b[39;49m\u001b[39m.\u001b[39;49m_request(url, params, first_request_time,\n\u001b[1;32m    349\u001b[0m                      retry_counter \u001b[39m+\u001b[39;49m \u001b[39m1\u001b[39;49m, base_url, accepts_clientid,\n\u001b[1;32m    350\u001b[0m                      extract_body, requests_kwargs, post_json)\n",
      "File \u001b[0;32m~/dev/SAEN/2023/buc-ees-best-worst/venv/lib/python3.10/site-packages/googlemaps/client.py:299\u001b[0m, in \u001b[0;36mClient._request\u001b[0;34m(self, url, params, first_request_time, retry_counter, base_url, accepts_clientid, extract_body, requests_kwargs, post_json)\u001b[0m\n\u001b[1;32m    296\u001b[0m     delay_seconds \u001b[39m=\u001b[39m \u001b[39m0.5\u001b[39m \u001b[39m*\u001b[39m \u001b[39m1.5\u001b[39m \u001b[39m*\u001b[39m\u001b[39m*\u001b[39m (retry_counter \u001b[39m-\u001b[39m \u001b[39m1\u001b[39m)\n\u001b[1;32m    298\u001b[0m     \u001b[39m# Jitter this value by 50% and pause.\u001b[39;00m\n\u001b[0;32m--> 299\u001b[0m     time\u001b[39m.\u001b[39;49msleep(delay_seconds \u001b[39m*\u001b[39;49m (random\u001b[39m.\u001b[39;49mrandom() \u001b[39m+\u001b[39;49m \u001b[39m0.5\u001b[39;49m))\n\u001b[1;32m    301\u001b[0m authed_url \u001b[39m=\u001b[39m \u001b[39mself\u001b[39m\u001b[39m.\u001b[39m_generate_auth_url(url, params, accepts_clientid)\n\u001b[1;32m    303\u001b[0m \u001b[39m# Default to the client-level self.requests_kwargs, with method-level\u001b[39;00m\n\u001b[1;32m    304\u001b[0m \u001b[39m# requests_kwargs arg overriding.\u001b[39;00m\n",
      "\u001b[0;31mKeyboardInterrupt\u001b[0m: "
     ]
    }
   ],
   "source": [
    "counter = 0\n",
    "\n",
    "# Loop through the buc_ees_df and get the ratings for each one.\n",
    "for index, row in buc_ees_df.iterrows():\n",
    "    counter += 1\n",
    "    print(f'Getting ratings for Buc-ee\\'s #{counter} of {len(buc_ees_df)}')\n",
    "    place_name = \"Buc-ee's \" + row['address']\n",
    "    rating, total_ratings = get_google_maps_ratings(place_name)\n",
    "    buc_ees_df.loc[index, 'rating'] = rating\n",
    "    buc_ees_df.loc[index, 'total_ratings'] = total_ratings\n",
    "    time.sleep(1)\n",
    "\n",
    "# Save the dataframe to a csv file\n",
    "buc_ees_df.to_csv('../output/buc-ees_directory_with_ratings.csv', index=False)\n",
    "\n",
    "# Display the dataframe\n",
    "buc_ees_df.head()\n"
   ]
  }
 ],
 "metadata": {
  "kernelspec": {
   "display_name": "venv",
   "language": "python",
   "name": "python3"
  },
  "language_info": {
   "codemirror_mode": {
    "name": "ipython",
    "version": 3
   },
   "file_extension": ".py",
   "mimetype": "text/x-python",
   "name": "python",
   "nbconvert_exporter": "python",
   "pygments_lexer": "ipython3",
   "version": "3.10.4"
  },
  "orig_nbformat": 4
 },
 "nbformat": 4,
 "nbformat_minor": 2
}
